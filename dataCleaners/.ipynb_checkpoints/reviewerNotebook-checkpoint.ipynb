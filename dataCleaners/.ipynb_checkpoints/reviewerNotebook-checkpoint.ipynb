{
 "cells": [
  {
   "cell_type": "code",
   "execution_count": 1,
   "metadata": {},
   "outputs": [],
   "source": [
    "import os"
   ]
  },
  {
   "cell_type": "code",
   "execution_count": 5,
   "metadata": {},
   "outputs": [],
   "source": [
    "fileDict = {\"mpPhotos\": [], \"leapCropped\":[], \"leapJoints\": [], \"mpJoints\":[], \"leapPhotos\":[]}"
   ]
  },
  {
   "cell_type": "code",
   "execution_count": 2,
   "metadata": {},
   "outputs": [],
   "source": [
    "fileNames = {\"mpPhotos\": dict(), \"leapCropped\":dict(), \"leapJoints\": dict(), \"mpJoints\":dict(), \"leapPhotos\":dict()}"
   ]
  },
  {
   "cell_type": "code",
   "execution_count": 3,
   "metadata": {},
   "outputs": [],
   "source": [
    "from os import listdir\n",
    "from os.path import isfile, join\n",
    "from collections import Counter"
   ]
  },
  {
   "cell_type": "code",
   "execution_count": 6,
   "metadata": {},
   "outputs": [],
   "source": [
    "for dataDir in fileDict.keys():\n",
    "    import natsort\n",
    "    files = [f for f in listdir(f\"../train/{dataDir}\") if\n",
    "             isfile(join(f\"../train/{dataDir}\", f))]\n",
    "    files = natsort.natsorted(files)\n",
    "    fileDict[dataDir]=dict(Counter([x[0].upper() for x in files]))\n",
    "    fileNames[dataDir] = [x.split(\".\")[0] for x in files]"
   ]
  },
  {
   "cell_type": "code",
   "execution_count": 16,
   "metadata": {},
   "outputs": [
    {
     "data": {
      "text/plain": [
       "107"
      ]
     },
     "execution_count": 16,
     "metadata": {},
     "output_type": "execute_result"
    }
   ],
   "source": [
    "max([int(x.split('-')[1]) for x in fileNames['mpPhotos'] if x.split('-')[0]=='Y'])"
   ]
  },
  {
   "cell_type": "code",
   "execution_count": 36,
   "metadata": {},
   "outputs": [],
   "source": [
    "def getGroupedFileNames(files):\n",
    "    mydict={}\n",
    "    for k, g in groupby(files, key=lambda x: x[0]):\n",
    "        if k in mydict:\n",
    "            mydict[k] += g\n",
    "        else:\n",
    "            mydict[k]=list(g)\n",
    "    return mydict"
   ]
  },
  {
   "cell_type": "code",
   "execution_count": 6,
   "metadata": {},
   "outputs": [],
   "source": [
    "def checkErrors(fileDict):\n",
    "    errorLog  = []\n",
    "    for dataFolderX in fileDict.keys():\n",
    "        for dataFolderY in fileDict.keys():\n",
    "            sumOfFilesInX = sum(fileDict[dataFolderX].values()) \n",
    "            sumOfFilesInY= sum(fileDict[dataFolderY].values())\n",
    "            if sumOfFilesInX==sumOfFilesInY :\n",
    "                pass\n",
    "            else:\n",
    "                errorLog.append(f\"Err {dataFolderX}[{sumOfFilesInX}] X {dataFolderY}[{sumOfFilesInY}]\")\n",
    "    return errorLog"
   ]
  },
  {
   "cell_type": "code",
   "execution_count": 18,
   "metadata": {},
   "outputs": [
    {
     "name": "stdout",
     "output_type": "stream",
     "text": [
      "all good\n"
     ]
    }
   ],
   "source": [
    "if checkErrors(fileDict):\n",
    "    print(\"err\")\n",
    "else:\n",
    "    print(\"all good\")"
   ]
  },
  {
   "cell_type": "code",
   "execution_count": 52,
   "metadata": {},
   "outputs": [],
   "source": [
    "allLetters = sorted(fileDict[list(fileDict.keys())[0]])"
   ]
  },
  {
   "cell_type": "code",
   "execution_count": 53,
   "metadata": {},
   "outputs": [],
   "source": [
    "folderNameWithMaxData = max(fileDict, key=lambda key:sum(fileDict[key].values()))"
   ]
  },
  {
   "cell_type": "code",
   "execution_count": 54,
   "metadata": {},
   "outputs": [
    {
     "data": {
      "text/plain": [
       "'mpPhotos'"
      ]
     },
     "execution_count": 54,
     "metadata": {},
     "output_type": "execute_result"
    }
   ],
   "source": [
    "folderNameWithMaxData"
   ]
  },
  {
   "cell_type": "code",
   "execution_count": 14,
   "metadata": {},
   "outputs": [],
   "source": [
    "mainCounter = fileDict[folderNameWithMaxData]"
   ]
  },
  {
   "cell_type": "code",
   "execution_count": 27,
   "metadata": {},
   "outputs": [
    {
     "data": {
      "text/plain": [
       "'A-0.jpeg'"
      ]
     },
     "execution_count": 27,
     "metadata": {},
     "output_type": "execute_result"
    }
   ],
   "source": [
    "f\"{activeLetter}-{indexCounter}.jpeg\""
   ]
  },
  {
   "cell_type": "code",
   "execution_count": 38,
   "metadata": {},
   "outputs": [
    {
     "data": {
      "text/plain": [
       "True"
      ]
     },
     "execution_count": 38,
     "metadata": {},
     "output_type": "execute_result"
    }
   ],
   "source": [
    "exists(\"../train/leapCropped/A-0.jpeg\")"
   ]
  },
  {
   "cell_type": "code",
   "execution_count": 37,
   "metadata": {},
   "outputs": [],
   "source": [
    "from os.path import exists\n",
    "path_to_file = \"../train/mpPhotos/\"+ f\"a{activeLetter}-{indexCounter}.jpeg\"\n",
    "if exists(path_to_file):\n",
    "    im = PIL.Image.open(path_to_file)\n",
    "else:\n",
    "    im = PIL.Image.new('RGB', (400,400), (125,125,125))\n",
    "im.show()"
   ]
  },
  {
   "cell_type": "code",
   "execution_count": 22,
   "metadata": {},
   "outputs": [],
   "source": [
    "\n",
    "import PIL.Image, PIL.ImageTk"
   ]
  },
  {
   "cell_type": "code",
   "execution_count": 173,
   "metadata": {},
   "outputs": [],
   "source": [
    "activeLetter = allLetters[0]\n",
    "indexCounter = 131"
   ]
  },
  {
   "cell_type": "code",
   "execution_count": 179,
   "metadata": {},
   "outputs": [
    {
     "data": {
      "text/plain": [
       "0"
      ]
     },
     "execution_count": 179,
     "metadata": {},
     "output_type": "execute_result"
    }
   ],
   "source": [
    "indexCounter"
   ]
  },
  {
   "cell_type": "code",
   "execution_count": 180,
   "metadata": {},
   "outputs": [
    {
     "data": {
      "text/plain": [
       "'B'"
      ]
     },
     "execution_count": 180,
     "metadata": {},
     "output_type": "execute_result"
    }
   ],
   "source": [
    "activeLetter"
   ]
  },
  {
   "cell_type": "code",
   "execution_count": 178,
   "metadata": {},
   "outputs": [],
   "source": [
    "rightArrowClick()"
   ]
  },
  {
   "cell_type": "code",
   "execution_count": 113,
   "metadata": {},
   "outputs": [],
   "source": [
    "leftArrowClick()"
   ]
  },
  {
   "cell_type": "code",
   "execution_count": 172,
   "metadata": {},
   "outputs": [],
   "source": [
    "# when right arrow\n",
    "def rightArrowClick():\n",
    "    global indexCounter\n",
    "    global activeLetter\n",
    "    newIndex = indexCounter + 1\n",
    "    if newIndex > mainCounter[activeLetter] -1:\n",
    "        activeLetter = allLetters[(allLetters.index(activeLetter) + 1) % len(allLetters)]\n",
    "        indexCounter = 0\n",
    "    else:\n",
    "        indexCounter = newIndex\n",
    "        \n",
    "def leftArrowClick():\n",
    "    global indexCounter\n",
    "    global activeLetter\n",
    "    newIndex = indexCounter - 1\n",
    "    if newIndex < 0:\n",
    "        newIndex = len(allLetters) - 1\n",
    "        activeLetter = allLetters[allLetters.index(activeLetter)-1] #zweryfikuj, nie wiem bo nie mogłem się skupić :^)\n",
    "    else:\n",
    "        indexCounter = newIndex\n",
    "        \n",
    "def delClick():\n",
    "    #todo\n",
    "    pass\n",
    "    \n",
    "def rewriteClick(targetLetter):\n",
    "    # 1. get fileName from targetLetter + indexCounter\n",
    "    # 2. get max value of mainCounter[targetLetter] and add +1\n",
    "    # 3. do magic computer stuff to rename file to \"targetLetter-(mainCounter[targetLetter]+1)\"\n",
    "    pass"
   ]
  },
  {
   "cell_type": "code",
   "execution_count": 67,
   "metadata": {},
   "outputs": [
    {
     "data": {
      "text/plain": [
       "{'B': 160,\n",
       " 'S': 108,\n",
       " 'H': 115,\n",
       " 'W': 133,\n",
       " 'O': 118,\n",
       " 'G': 104,\n",
       " 'P': 110,\n",
       " 'L': 156,\n",
       " 'T': 104,\n",
       " 'E': 121,\n",
       " 'F': 134,\n",
       " 'A': 133,\n",
       " 'V': 130,\n",
       " 'R': 114,\n",
       " 'I': 128,\n",
       " 'C': 109,\n",
       " 'K': 114,\n",
       " 'Y': 108,\n",
       " 'N': 5,\n",
       " 'U': 4,\n",
       " 'M': 5}"
      ]
     },
     "execution_count": 67,
     "metadata": {},
     "output_type": "execute_result"
    }
   ],
   "source": [
    "mainCounter"
   ]
  },
  {
   "cell_type": "code",
   "execution_count": 1,
   "metadata": {},
   "outputs": [],
   "source": [
    "def unpickle(filename):\n",
    "    import pickle\n",
    "    with open(filename, 'rb') as fp:\n",
    "        banana = pickle.load(fp)\n",
    "    return banana"
   ]
  },
  {
   "cell_type": "code",
   "execution_count": 2,
   "metadata": {},
   "outputs": [],
   "source": [
    "x = unpickle(\"../train/mpJoints/A-0.pickle\")"
   ]
  },
  {
   "cell_type": "code",
   "execution_count": 27,
   "metadata": {},
   "outputs": [
    {
     "data": {
      "text/plain": [
       "True"
      ]
     },
     "execution_count": 27,
     "metadata": {},
     "output_type": "execute_result"
    }
   ],
   "source": [
    "type(x) == list"
   ]
  },
  {
   "cell_type": "code",
   "execution_count": 22,
   "metadata": {},
   "outputs": [
    {
     "data": {
      "text/plain": [
       "1"
      ]
     },
     "execution_count": 22,
     "metadata": {},
     "output_type": "execute_result"
    }
   ],
   "source": [
    "len(x)"
   ]
  },
  {
   "cell_type": "code",
   "execution_count": 74,
   "metadata": {},
   "outputs": [
    {
     "name": "stdout",
     "output_type": "stream",
     "text": [
      "<re.Match object; span=(0, 1), match='y'>\n"
     ]
    }
   ],
   "source": [
    "import re\n",
    "pattern = re.compile(\"^[a-z]$\")\n",
    "print(pattern.match('y'))\n"
   ]
  },
  {
   "cell_type": "code",
   "execution_count": 35,
   "metadata": {},
   "outputs": [
    {
     "data": {
      "text/plain": [
       "x: 0.5110118389129639\n",
       "y: 0.5620747208595276\n",
       "z: 8.531198525396633e-10"
      ]
     },
     "execution_count": 35,
     "metadata": {},
     "output_type": "execute_result"
    }
   ],
   "source": [
    "x[0].landmark[0]"
   ]
  },
  {
   "cell_type": "code",
   "execution_count": 28,
   "metadata": {},
   "outputs": [
    {
     "data": {
      "text/plain": [
       "mediapipe.framework.formats.landmark_pb2.NormalizedLandmarkList"
      ]
     },
     "execution_count": 28,
     "metadata": {},
     "output_type": "execute_result"
    }
   ],
   "source": [
    "type(x[0])"
   ]
  },
  {
   "cell_type": "code",
   "execution_count": 15,
   "metadata": {},
   "outputs": [],
   "source": [
    "y = unpickle(\"../train/leapJoints/A-0.pickle\")"
   ]
  },
  {
   "cell_type": "code",
   "execution_count": 21,
   "metadata": {},
   "outputs": [
    {
     "data": {
      "text/plain": [
       "22"
      ]
     },
     "execution_count": 21,
     "metadata": {},
     "output_type": "execute_result"
    }
   ],
   "source": [
    "len(y)"
   ]
  }
 ],
 "metadata": {
  "kernelspec": {
   "display_name": "Python 3",
   "language": "python",
   "name": "python3"
  },
  "language_info": {
   "codemirror_mode": {
    "name": "ipython",
    "version": 3
   },
   "file_extension": ".py",
   "mimetype": "text/x-python",
   "name": "python",
   "nbconvert_exporter": "python",
   "pygments_lexer": "ipython3",
   "version": "3.8.10"
  }
 },
 "nbformat": 4,
 "nbformat_minor": 4
}

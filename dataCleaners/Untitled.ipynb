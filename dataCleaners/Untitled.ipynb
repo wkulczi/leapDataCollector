{
 "cells": [
  {
   "cell_type": "code",
   "execution_count": 1,
   "id": "1a11a0e0-d09b-4998-88fd-ee05e97a22bc",
   "metadata": {},
   "outputs": [],
   "source": [
    "from os import listdir\n",
    "from os.path import isfile, join\n",
    "import mediapipe\n",
    "\n",
    "def unpickle(filename):\n",
    "    import pickle\n",
    "    try:\n",
    "        with open(filename, 'rb') as fp:\n",
    "            banana = pickle.load(fp)\n",
    "    except EOFError:\n",
    "        banana = None\n",
    "    return banana"
   ]
  },
  {
   "cell_type": "code",
   "execution_count": 9,
   "id": "bf1e2742-cbe1-4dbc-a262-1e19ed6f1471",
   "metadata": {},
   "outputs": [],
   "source": [
    "def getEmptyJoints(folder):\n",
    "    files = [f for f in listdir(f\"../train/{folder}\") if\n",
    "             isfile(join(f\"../train/{folder}\", f))]\n",
    "    import natsort\n",
    "    files = natsort.natsorted(files)\n",
    "    \n",
    "    emptyFiles = []\n",
    "    for file in files:\n",
    "        buf = unpickle(f\"../train/{folder}/{file}\")\n",
    "        if buf is None:\n",
    "            emptyFiles.append(f\"{file.split('.')[0]}.*\")\n",
    "    return emptyFiles"
   ]
  },
  {
   "cell_type": "code",
   "execution_count": 16,
   "id": "d45bf6a9-3188-4c5e-a76a-aa5f8ca7120e",
   "metadata": {},
   "outputs": [],
   "source": [
    "emptyLeap = getEmptyJoints(\"leapJoints\")\n",
    "emptyMp = getEmptyJoints(\"mpJoints\")\n",
    "emptyFiles = list(set(emptyLeap + emptyMp))"
   ]
  },
  {
   "cell_type": "code",
   "execution_count": 38,
   "id": "bd30eb3b-0576-4943-a391-29de913e655f",
   "metadata": {},
   "outputs": [
    {
     "name": "stdout",
     "output_type": "stream",
     "text": [
      "115711-0907\n"
     ]
    }
   ],
   "source": [
    "from datetime import datetime\n",
    "now = datetime.now()\n",
    "dt_string = now.strftime(\"%H%M%S-%d%m\")"
   ]
  },
  {
   "cell_type": "code",
   "execution_count": 55,
   "id": "cec0b9f5-8cc8-435c-8cb8-368c90c86e35",
   "metadata": {},
   "outputs": [
    {
     "name": "stdout",
     "output_type": "stream",
     "text": [
      "[12:04:09 | 09.07.22] found and saved names of 286 empty pickles\n"
     ]
    }
   ],
   "source": [
    "from datetime import datetime\n",
    "now = datetime.now()\n",
    "dt = now.strftime(\"%H%M%S-%d%m\")\n",
    "with open(f\"toDelete_{dt}.txt\", \"w\") as textfile:\n",
    "    for element in emptyFiles:\n",
    "        textfile.write(element+\"\\n\")\n",
    "\n",
    "print(f\"[{now.strftime('%H:%M:%S | %d.%m.%y')}] found and saved names of {len(emptyFiles)} empty pickles\")"
   ]
  }
 ],
 "metadata": {
  "kernelspec": {
   "display_name": "Python 3 (ipykernel)",
   "language": "python",
   "name": "python3"
  },
  "language_info": {
   "codemirror_mode": {
    "name": "ipython",
    "version": 3
   },
   "file_extension": ".py",
   "mimetype": "text/x-python",
   "name": "python",
   "nbconvert_exporter": "python",
   "pygments_lexer": "ipython3",
   "version": "3.9.7"
  }
 },
 "nbformat": 4,
 "nbformat_minor": 5
}
